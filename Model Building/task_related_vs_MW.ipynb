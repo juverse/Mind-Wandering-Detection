{
 "cells": [
  {
   "cell_type": "code",
   "execution_count": 1,
   "metadata": {},
   "outputs": [],
   "source": [
    "############################## can we decide between task related and MW ? ############################\n",
    "\n",
    "# only two categorries\n",
    "\n",
    "## Dependencies\n",
    "\n",
    "# Import package/module for data\n",
    "import numpy as np\n",
    "import pandas as pd\n",
    "import matplotlib.pylab as plt\n",
    "\n",
    "\n",
    "# Import modules for feature engineering and modelling\n",
    "from sklearn.model_selection import train_test_split\n",
    "from sklearn.base import BaseEstimator, TransformerMixin\n",
    "from sklearn.preprocessing import OneHotEncoder, MinMaxScaler, StandardScaler\n",
    "from sklearn.impute import SimpleImputer\n",
    "from sklearn.pipeline import Pipeline, FeatureUnion\n",
    "from sklearn.compose import ColumnTransformer\n",
    "from sklearn.model_selection import GroupKFold\n",
    "\n",
    "# models\n",
    "from sklearn.linear_model import LinearRegression\n",
    "from sklearn.svm import LinearSVC\n",
    "from sklearn.svm import SVC\n",
    "from sklearn.naive_bayes import GaussianNB\n",
    "\n",
    "# cross validation\n",
    "from sklearn.model_selection import StratifiedGroupKFold\n",
    "from sklearn.model_selection import GroupKFold\n",
    "\n",
    "\n",
    "#accuracy\n",
    "from sklearn.metrics import accuracy_score\n",
    "from sklearn.metrics import confusion_matrix\n",
    "from sklearn.metrics import f1_score\n",
    "\n",
    "from IPython.display import display\n",
    "\n",
    "from collections import Counter\n"
   ]
  },
  {
   "cell_type": "code",
   "execution_count": 2,
   "metadata": {},
   "outputs": [],
   "source": [
    "read_path_awareness = r\"W:\\WCT\\04_Mind-Wandering-Labstudy\\04_Daten\\04_Prepared_data\\00_Julia\\Model Building\\features_with_label_awareness.csv\"\n",
    "read_path = r\"W:\\WCT\\04_Mind-Wandering-Labstudy\\04_Daten\\04_Prepared_data\\00_Julia\\Model Building\\features_with_labels.csv\"\n",
    "df = pd.read_csv(read_path)\n",
    "\n",
    "#print(df.columns.tolist())"
   ]
  },
  {
   "cell_type": "code",
   "execution_count": 3,
   "metadata": {},
   "outputs": [],
   "source": [
    "df[\"Awareness_all_cat\"] =  df[\"Awareness_all_cat\"].replace( 3,2)"
   ]
  },
  {
   "cell_type": "code",
   "execution_count": 4,
   "metadata": {},
   "outputs": [],
   "source": [
    "# ['task-related' == 1 , 'aware' == 2, 'unaware' == 3 , nan == delete the row]\n",
    "def get_X_y(train):\n",
    "    FEATURES = [\n",
    "        'Fixation Duration Mean [ms]', 'Fixation Duration Max [ms]', 'Fixation Duration Min [ms]', 'Fixation Duration Median [ms]', 'Fixation Duration Std [ms]', 'Fixation Duration Skew [ms]', 'Fixation Duration Quantil 25 [ms]', 'Fixation Duration Quantil 75 [ms]',\n",
    "        'Saccade Duration Mean [ms]', 'Saccade Duration Max [ms]', 'Saccade Duration Min [ms]', 'Saccade Duration Median [ms]', 'Saccade Duration Std [ms]', 'Saccade Duration Skew [ms]', 'Saccade Duration Quantil 25 [ms]', 'Saccade Duration Quantil 75 [ms]', \n",
    "        'Blink Duration Mean [ms]', 'Blink Duration Max [ms]', 'Blink Duration Min [ms]', 'Blink Duration Median [ms]', 'Blink Duration Std [ms]', 'Blink Duration Skew [ms]', 'Blink Duration Quantil 25 [ms]', 'Blink Duration Quantil 75 [ms]', 'Fixation Duration Kurtosis [ms]',\n",
    "        'Saccade Duration Kurtosis [ms]',\n",
    "        'Blink Duration Kurtosis [ms]', \n",
    "        'Fixation Saccade Ratio Mean', 'Fixation Saccade Ratio Max', 'Fixation Saccade Ratio Min', 'Fixation Saccade Ratio Median', 'Fixation Saccade Ratio Std', 'Fixation Saccade Ratio Skew', 'Fixation Saccade Ratio Kurtosis', \n",
    "        'Fixation Number', 'Blink Number', \n",
    "        'Fixation Dispersion X Mean [px]', 'Fixation Dispersion X Max [px]', 'Fixation Dispersion X Min [px]', 'Fixation Dispersion X Median [px]', 'Fixation Dispersion X Std [px]', 'Fixation Dispersion X Skew [px]', 'Fixation Dispersion X Quantil 25 [px]', 'Fixation Dispersion X Quantil 75 [px]', \n",
    "        'Fixation Dispersion Y Mean [px]', 'Fixation Dispersion Y Max [px]', 'Fixation Dispersion Y Min [px]', 'Fixation Dispersion Y Median [px]', 'Fixation Dispersion Y Std [px]', 'Fixation Dispersion Y Skew [px]', 'Fixation Dispersion Y Quantil 25 [px]', 'Fixation Dispersion Y Quantil 75 [px]', 'Fixation Dispersion X Kurtosis [px]', 'Fixation Dispersion Y Kurtosis [px]', \n",
    "        'Saccade Amplitude Mean [°]', 'Saccade Amplitude Max [°]', 'Saccade Amplitude Min [°]', 'Saccade Amplitude Median [°]', 'Saccade Amplitude Std [°]', 'Saccade Amplitude Skew [°]', 'Saccade Amplitude Quantil 25 [°]', 'Saccade Amplitude Quantil 75 [°]', 'Saccade Amplitude Kurtosis [°]',\n",
    "        'Saccade Acceleration Average [°/s²] Mean', 'Saccade Acceleration Average [°/s²] Max', 'Saccade Acceleration Average [°/s²] Min', 'Saccade Acceleration Average [°/s²] Median', 'Saccade Acceleration Average [°/s²] Std', 'Saccade Acceleration Average [°/s²] Skew]', 'Saccade Acceleration Average [°/s²] Quantil 25]', 'Saccade Acceleration Average [°/s²] Quantil 75]',\n",
    "        'Saccade Acceleration Peak [°/s²] Mean', 'Saccade Acceleration Peak [°/s²] Max', 'Saccade Acceleration Peak [°/s²] Min', 'Saccade Acceleration Peak [°/s²] Median', 'Saccade Acceleration Peak [°/s²] Std', 'Saccade Acceleration Peak [°/s²] Skew]', 'Saccade Acceleration Peak [°/s²] Quantil 25]', 'Saccade Acceleration Peak [°/s²] Quantil 75]', 'Saccade Deceleration Peak [°/s²] Mean', \n",
    "        'Saccade Deceleration Peak [°/s²] Max', 'Saccade Deceleration Peak [°/s²] Min', 'Saccade Deceleration Peak [°/s²] Median', 'Saccade Deceleration Peak [°/s²] Std', 'Saccade Deceleration Peak [°/s²] Skew]', 'Saccade Deceleration Peak [°/s²] Quantil 25]', 'Saccade Deceleration Peak [°/s²] Quantil 75]', \n",
    "        'Saccade Velocity Average [°/s²] Mean', 'Saccade Velocity Average [°/s²] Max', 'Saccade Velocity Average [°/s²] Min', 'Saccade Velocity Average [°/s²] Median', 'Saccade Velocity Average [°/s²] Std', 'Saccade Velocity Average [°/s²] Skew]', 'Saccade Velocity Average [°/s²] Quantil 25]', 'Saccade Velocity Average [°/s²] Quantil 75]', \n",
    "        'Saccade Velocity Peak [°/s²] Mean', 'Saccade Velocity Peak [°/s²] Max', 'Saccade Velocity Peak [°/s²] Min', 'Saccade Velocity Peak [°/s²] Median', 'Saccade Velocity Peak [°/s²] Std', 'Saccade Velocity Peak [°/s²] Skew]', 'Saccade Velocity Peak [°/s²] Quantil 25]', 'Saccade Velocity Peak [°/s²] Quantil 75]', \n",
    "        'Saccade Velocity Peak [%] Mean', 'Saccade Velocity Peak [%] Max', 'Saccade Velocity Peak [%] Min', 'Saccade Velocity Peak [%] Median', 'Saccade Velocity Peak [%] Std', 'Saccade Velocity Peak [%] Skew]', 'Saccade Velocity Peak [%] Quantil 25]', 'Saccade Velocity Peak [%] Quantil 75]', \n",
    "        'Saccade Acceleration Average [°/s²] Kurtosis', 'Saccade Acceleration Peak [°/s²] Kurtosis', 'Saccade Deceleration Peak [°/s²] Kurtosis', 'Saccade Velocity Average [°/s²] Kurtosis', 'Saccade Velocity Peak [°/s²] Kurtosis', 'Saccade Velocity Peak [%] Kurtosis', \n",
    "        'Saccade Length Mean [px]', 'Saccade Length Max [px]', 'Saccade Length Min [px]', 'Saccade Length Median [px]', 'Saccade Length Std [px]', 'Saccade Length Skew [px]]', 'Saccade Length Quantil 25 [px]]', 'Saccade Length Quantil 75 [px]]', 'Saccade Length Kurtosis [px]', \n",
    "        'Fixation Average Pupil Diameter [mm] Mean', 'Fixation Average Pupil Diameter [mm] Max', 'Fixation Average Pupil Diameter [mm] Min', 'Fixation Average Pupil Diameter [mm] Median', 'Fixation Average Pupil Diameter [mm] Std', 'Fixation Average Pupil Diameter [mm] Skew', 'Fixation Average Pupil Diameter [mm] Quantil25', 'Fixation Average Pupil Diameter [mm] Quantil75',\n",
    "        'Fixation Average Pupil Diameter [mm] Kurtosis', \n",
    "        # 'Veregence Angles Mean [rad]', 'Veregence Angles Std [rad]', \n",
    "        # 'Pupil Distance Mean [px]', 'Pupil Distance Std [px]'\n",
    "    ]\n",
    "\n",
    "    GROUPS = \"Participant\"\n",
    "\n",
    "    TARGET = \"Awareness_all_cat\"\n",
    "\n",
    "    X = train[FEATURES]\n",
    "    y = train[TARGET]\n",
    "    groups = train[GROUPS]\n",
    "    return X, y, groups"
   ]
  },
  {
   "cell_type": "code",
   "execution_count": 5,
   "metadata": {},
   "outputs": [
    {
     "name": "stdout",
     "output_type": "stream",
     "text": [
      "Awareness_all_cat\n",
      "1    631\n",
      "2    396\n",
      "dtype: int64\n"
     ]
    }
   ],
   "source": [
    "# How many from each target category are in the set?\n",
    "df2 = df.pivot_table(index = ['Awareness_all_cat'], aggfunc ='size')\n",
    "print(df2)"
   ]
  },
  {
   "cell_type": "code",
   "execution_count": 6,
   "metadata": {},
   "outputs": [],
   "source": [
    "X, y, groups = get_X_y(df)"
   ]
  },
  {
   "cell_type": "code",
   "execution_count": 7,
   "metadata": {},
   "outputs": [],
   "source": [
    "####### pipeline\n",
    "\n",
    "# preprocessing with pipleline\n",
    "\n",
    "# imputer \n",
    "# scaler\n",
    "# model\n",
    "pipe = Pipeline([\n",
    "    ('imputer', SimpleImputer(fill_value='missing')),\n",
    "    ('scaler',  StandardScaler()), # MinMaxScaler()), #\n",
    "    ('model', SVC(kernel=\"rbf\", C=0.025, probability=True)) #GaussianNB())## LinearSVC())\n",
    "])"
   ]
  },
  {
   "cell_type": "code",
   "execution_count": 10,
   "metadata": {},
   "outputs": [
    {
     "name": "stdout",
     "output_type": "stream",
     "text": [
      "    0   1\n",
      "0  77  53\n",
      "1  33  42\n",
      "Accuracy for fold 0:  0.5804878048780487\n",
      "f1  score for fold 0:  0.6416666666666667\n",
      "    0   1\n",
      "0  98  55\n",
      "1  19  38\n",
      "Accuracy for fold 1:  0.6476190476190476\n",
      "f1  score for fold 1:  0.7259259259259259\n",
      "    0   1\n",
      "0  57  54\n",
      "1  31  66\n",
      "Accuracy for fold 2:  0.5913461538461539\n",
      "f1  score for fold 2:  0.5728643216080402\n",
      "    0   1\n",
      "0  82  41\n",
      "1  57  29\n",
      "Accuracy for fold 3:  0.5311004784688995\n",
      "f1  score for fold 3:  0.6259541984732825\n",
      "    0   1\n",
      "0  76  38\n",
      "1  39  42\n",
      "Accuracy for fold 4:  0.6051282051282051\n",
      "f1  score for fold 4:  0.6637554585152837\n",
      "Our mean fold accurancy_scores is 0.5911\n",
      "Our mean fold f1 score is 0.6460\n"
     ]
    }
   ],
   "source": [
    "##################### With  Oversampling, Crossvalidation, imputing #################\n",
    "## RandomOverSampler\n",
    "## RandomOverSampler\n",
    "from imblearn.over_sampling import RandomOverSampler\n",
    "sgk = StratifiedGroupKFold(n_splits=5, shuffle=True, random_state=529)\n",
    "\n",
    "group_kfold = GroupKFold(n_splits=5)\n",
    "\n",
    "fold = 0\n",
    "accurancy_scores = []\n",
    "f1_scores = []\n",
    "### stratifies group k fold\n",
    "for train_index, test_index in sgk.split(X, y, groups):\n",
    "    X_train, X_test = X.loc[train_index], X.loc[test_index]\n",
    "    y_train, y_test = y.loc[train_index], y.loc[test_index]\n",
    "    #print(f\"Training target statistics: {Counter(y_train)}\")\n",
    "    #print(f\"Testing target statistics: {Counter(y_test)}\")\n",
    "    over_sampler = RandomOverSampler(random_state=42)\n",
    "    X_res, y_res = over_sampler.fit_resample(X_train, y_train)\n",
    "    #print(f\"Training target statistics with oversampling: {Counter(y_res)}\")\n",
    "    #print(f\"Testing target statistics with oversampling: {Counter(y_test)}\")\n",
    "\n",
    "    # Fit Model on Train\n",
    "    pipe.fit(X_res, y_res)\n",
    "    y_pred = pipe.predict(X_test)\n",
    "    y_baseline = [1] * len(y_pred)\n",
    "    accurancy_score = accuracy_score(y_test, y_pred)\n",
    "    #print(y_test.values)\n",
    "    #print(y_pred)\n",
    "    f1 = f1_score(y_test, y_pred)\n",
    "    accurancy_scores.append(accurancy_score)\n",
    "    print(pd.DataFrame(confusion_matrix(y_test, y_pred)))\n",
    "    f1_scores.append(f1)\n",
    "    print(f\"Accuracy for fold {fold}: \", accurancy_score)\n",
    "    print(f\"f1  score for fold {fold}: \", f1)\n",
    "    fold += 1\n",
    "\n",
    "mean_score = np.mean(accurancy_scores)\n",
    "mean_f1 = np.mean(f1_scores)\n",
    "print(f'Our mean fold accurancy_scores is {mean_score:0.4f}')\n",
    "print(f'Our mean fold f1 score is {mean_f1:0.4f}')\n"
   ]
  },
  {
   "cell_type": "code",
   "execution_count": 9,
   "metadata": {},
   "outputs": [
    {
     "name": "stdout",
     "output_type": "stream",
     "text": [
      "Training target statistics: Counter({1: 490, 2: 327})\n",
      "Testing target statistics: Counter({1: 141, 2: 69})\n",
      "Training target statistics with oversampling: Counter({1: 490, 2: 490})\n",
      "Testing target statistics with oversampling: Counter({1: 141, 2: 69})\n",
      "Accuracy for fold 0:  0.6333333333333333\n",
      "Training target statistics: Counter({1: 488, 2: 330})\n",
      "Testing target statistics: Counter({1: 143, 2: 66})\n",
      "Training target statistics with oversampling: Counter({1: 488, 2: 488})\n",
      "Testing target statistics with oversampling: Counter({1: 143, 2: 66})\n",
      "Accuracy for fold 1:  0.5980861244019139\n",
      "Training target statistics: Counter({1: 530, 2: 290})\n",
      "Testing target statistics: Counter({2: 106, 1: 101})\n",
      "Training target statistics with oversampling: Counter({1: 530, 2: 530})\n",
      "Testing target statistics with oversampling: Counter({2: 106, 1: 101})\n",
      "Accuracy for fold 2:  0.5458937198067633\n",
      "Training target statistics: Counter({1: 512, 2: 324})\n",
      "Testing target statistics: Counter({1: 119, 2: 72})\n",
      "Training target statistics with oversampling: Counter({1: 512, 2: 512})\n",
      "Testing target statistics with oversampling: Counter({1: 119, 2: 72})\n",
      "Accuracy for fold 3:  0.5602094240837696\n",
      "Training target statistics: Counter({1: 504, 2: 313})\n",
      "Testing target statistics: Counter({1: 127, 2: 83})\n",
      "Training target statistics with oversampling: Counter({1: 504, 2: 504})\n",
      "Testing target statistics with oversampling: Counter({1: 127, 2: 83})\n",
      "Accuracy for fold 4:  0.5761904761904761\n",
      "Our mean fold score is 0.5827\n"
     ]
    }
   ],
   "source": [
    "##################### Oversampling #################\n",
    "## RandomOverSampler\n",
    "from imblearn.over_sampling import RandomOverSampler\n",
    "\n",
    "sgk = StratifiedGroupKFold(n_splits=5, shuffle=True, random_state=100)\n",
    "\n",
    "group_kfold = GroupKFold(n_splits=5)\n",
    "\n",
    "fold = 0\n",
    "scores = []\n",
    "### stratifies group k fold\n",
    "for train_index, test_index in sgk.split(X, y, groups):\n",
    "    \n",
    "    X_train, X_test = X.loc[train_index], X.loc[test_index]\n",
    "    y_train, y_test = y.loc[train_index], y.loc[test_index]\n",
    "    print(f\"Training target statistics: {Counter(y_train)}\")\n",
    "    print(f\"Testing target statistics: {Counter(y_test)}\")\n",
    "    over_sampler = RandomOverSampler(random_state=42)\n",
    "    X_res, y_res = over_sampler.fit_resample(X_train, y_train)\n",
    "    print(f\"Training target statistics with oversampling: {Counter(y_res)}\")\n",
    "    print(f\"Testing target statistics with oversampling: {Counter(y_test)}\")\n",
    "\n",
    "    # Fit Model on Train\n",
    "    pipe.fit(X_res, y_res)\n",
    "    y_pred = pipe.predict(X_test)\n",
    "    y_baseline = [1] * len(y_pred)\n",
    "    accurancy_score = accuracy_score(y_test, y_pred)\n",
    "    scores.append(accurancy_score)\n",
    "    print(f\"Accuracy for fold {fold}: \", accurancy_score)\n",
    "    fold += 1\n",
    "\n",
    "mean_score = np.mean(scores)\n",
    "print(f'Our mean fold score is {mean_score:0.4f}')\n"
   ]
  },
  {
   "cell_type": "code",
   "execution_count": null,
   "metadata": {},
   "outputs": [],
   "source": [
    "# f1 score: \n"
   ]
  },
  {
   "cell_type": "code",
   "execution_count": null,
   "metadata": {},
   "outputs": [],
   "source": [
    "# Chance: 0.5 \n",
    "# our accuracy 0.5912\n"
   ]
  }
 ],
 "metadata": {
  "kernelspec": {
   "display_name": "Python 3",
   "language": "python",
   "name": "python3"
  },
  "language_info": {
   "codemirror_mode": {
    "name": "ipython",
    "version": 3
   },
   "file_extension": ".py",
   "mimetype": "text/x-python",
   "name": "python",
   "nbconvert_exporter": "python",
   "pygments_lexer": "ipython3",
   "version": "3.10.9"
  },
  "orig_nbformat": 4,
  "vscode": {
   "interpreter": {
    "hash": "a166e61b3f1e7b9ccc9f59f78d7cc3087a9ccbb0b1a7cff444b301613a633a54"
   }
  }
 },
 "nbformat": 4,
 "nbformat_minor": 2
}
