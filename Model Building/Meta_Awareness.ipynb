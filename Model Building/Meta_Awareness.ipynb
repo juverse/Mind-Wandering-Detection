{
 "cells": [
  {
   "cell_type": "code",
   "execution_count": 70,
   "metadata": {},
   "outputs": [],
   "source": [
    "############################## can we decide between task related and MW aware and MW unaware ? ############################\n",
    "\n",
    "\n",
    "## Dependencies\n",
    "\n",
    "# Import package/module for data\n",
    "import numpy as np\n",
    "import pandas as pd\n",
    "import matplotlib.pylab as plt\n",
    "\n",
    "# preprocessing\n",
    "import pandas as pd\n",
    "import numpy as np\n",
    "from sklearn.preprocessing import LabelEncoder\n",
    "from sklearn.preprocessing import OneHotEncoder, MinMaxScaler, StandardScaler\n",
    "from sklearn.impute import SimpleImputer\n",
    "\n",
    "\n",
    "\n",
    "# Import modules for feature engineering and modelling\n",
    "from sklearn.model_selection import train_test_split\n",
    "from sklearn.base import BaseEstimator, TransformerMixin\n",
    "\n",
    "from sklearn.compose import ColumnTransformer\n",
    "from sklearn.model_selection import GroupKFold\n",
    "\n",
    "# pipeline\n",
    "#from sklearn.pipeline import Pipeline, FeatureUnion\n",
    "from imblearn.pipeline import Pipeline\n",
    "\n",
    "# models\n",
    "from sklearn.linear_model import LinearRegression\n",
    "from sklearn.svm import LinearSVC\n",
    "from sklearn.svm import SVC\n",
    "from sklearn.naive_bayes import GaussianNB\n",
    "from sklearn.ensemble import RandomForestClassifier\n",
    "import xgboost as xgb\n",
    "\n",
    "# cross validation\n",
    "from sklearn.model_selection import StratifiedGroupKFold\n",
    "from sklearn.model_selection import GroupKFold\n",
    "\n",
    "# balancing\n",
    "from imblearn.over_sampling import SMOTE\n",
    "\n",
    "#accuracy\n",
    "from sklearn.metrics import accuracy_score\n",
    "from sklearn.metrics import confusion_matrix\n",
    "from sklearn.metrics import f1_score\n",
    "from sklearn.metrics import precision_score\n",
    "from sklearn.metrics import recall_score\n",
    "\n",
    "from IPython.display import display\n",
    "\n",
    "from collections import Counter\n"
   ]
  },
  {
   "cell_type": "code",
   "execution_count": 71,
   "metadata": {},
   "outputs": [],
   "source": [
    "read_path_awareness = r\"W:\\WCT\\04_Mind-Wandering-Labstudy\\04_Daten\\04_Prepared_data\\00_Julia\\Model Building\\features_with_label_awareness.csv\"\n",
    "read_path = r\"W:\\WCT\\04_Mind-Wandering-Labstudy\\04_Daten\\04_Prepared_data\\00_Julia\\Model Building\\features_with_labels.csv\"\n",
    "df = pd.read_csv(read_path)\n",
    "\n",
    "#print(df.columns.tolist())"
   ]
  },
  {
   "cell_type": "code",
   "execution_count": 72,
   "metadata": {},
   "outputs": [
    {
     "data": {
      "text/plain": [
       "task-related    631\n",
       "aware           249\n",
       "unaware         147\n",
       "Name: Awareness_all, dtype: int64"
      ]
     },
     "execution_count": 72,
     "metadata": {},
     "output_type": "execute_result"
    }
   ],
   "source": [
    "#df[\"Awareness_all\"].unique()\n",
    "df[\"Awareness_all\"].value_counts()"
   ]
  },
  {
   "cell_type": "code",
   "execution_count": 73,
   "metadata": {},
   "outputs": [
    {
     "data": {
      "text/plain": [
       "array([1, 0, 2])"
      ]
     },
     "execution_count": 73,
     "metadata": {},
     "output_type": "execute_result"
    }
   ],
   "source": [
    "labelencoder = LabelEncoder()\n",
    "# Assigning numerical values and storing in another column\n",
    "df[\"Awareness_all_new\"] = labelencoder.fit_transform(df[\"Awareness_all\"])\n",
    "df[\"Awareness_all_new\"].unique()"
   ]
  },
  {
   "cell_type": "code",
   "execution_count": 74,
   "metadata": {},
   "outputs": [
    {
     "data": {
      "text/plain": [
       "1    631\n",
       "0    249\n",
       "2    147\n",
       "Name: Awareness_all_new, dtype: int64"
      ]
     },
     "execution_count": 74,
     "metadata": {},
     "output_type": "execute_result"
    }
   ],
   "source": [
    "df[\"Awareness_all_new\"].value_counts()\n",
    "# 1 = task related, 0 aware 2 unaware"
   ]
  },
  {
   "cell_type": "code",
   "execution_count": 75,
   "metadata": {},
   "outputs": [],
   "source": [
    "# ['task-related' == 1 , 'aware' == 2, 'unaware' == 3 , nan == delete the row]\n",
    "def get_X_y(train):\n",
    "    FEATURES = [\n",
    "        'Fixation Duration Mean [ms]', 'Fixation Duration Max [ms]', 'Fixation Duration Min [ms]', 'Fixation Duration Median [ms]', 'Fixation Duration Std [ms]', 'Fixation Duration Skew [ms]', 'Fixation Duration Quantil 25 [ms]', 'Fixation Duration Quantil 75 [ms]',\n",
    "        'Saccade Duration Mean [ms]', 'Saccade Duration Max [ms]', 'Saccade Duration Min [ms]', 'Saccade Duration Median [ms]', 'Saccade Duration Std [ms]', 'Saccade Duration Skew [ms]', 'Saccade Duration Quantil 25 [ms]', 'Saccade Duration Quantil 75 [ms]', \n",
    "        'Blink Duration Mean [ms]', 'Blink Duration Max [ms]', 'Blink Duration Min [ms]', 'Blink Duration Median [ms]', 'Blink Duration Std [ms]', 'Blink Duration Skew [ms]', 'Blink Duration Quantil 25 [ms]', 'Blink Duration Quantil 75 [ms]', 'Fixation Duration Kurtosis [ms]',\n",
    "        'Saccade Duration Kurtosis [ms]',\n",
    "        'Blink Duration Kurtosis [ms]', \n",
    "        'Fixation Saccade Ratio Mean', 'Fixation Saccade Ratio Max', 'Fixation Saccade Ratio Min', 'Fixation Saccade Ratio Median', 'Fixation Saccade Ratio Std', 'Fixation Saccade Ratio Skew', 'Fixation Saccade Ratio Kurtosis', \n",
    "        'Fixation Number', 'Blink Number', \n",
    "        'Fixation Dispersion X Mean [px]', 'Fixation Dispersion X Max [px]', 'Fixation Dispersion X Min [px]', 'Fixation Dispersion X Median [px]', 'Fixation Dispersion X Std [px]', 'Fixation Dispersion X Skew [px]', 'Fixation Dispersion X Quantil 25 [px]', 'Fixation Dispersion X Quantil 75 [px]', \n",
    "        'Fixation Dispersion Y Mean [px]', 'Fixation Dispersion Y Max [px]', 'Fixation Dispersion Y Min [px]', 'Fixation Dispersion Y Median [px]', 'Fixation Dispersion Y Std [px]', 'Fixation Dispersion Y Skew [px]', 'Fixation Dispersion Y Quantil 25 [px]', 'Fixation Dispersion Y Quantil 75 [px]', 'Fixation Dispersion X Kurtosis [px]', 'Fixation Dispersion Y Kurtosis [px]', \n",
    "        'Saccade Amplitude Mean [°]', 'Saccade Amplitude Max [°]', 'Saccade Amplitude Min [°]', 'Saccade Amplitude Median [°]', 'Saccade Amplitude Std [°]', 'Saccade Amplitude Skew [°]', 'Saccade Amplitude Quantil 25 [°]', 'Saccade Amplitude Quantil 75 [°]', 'Saccade Amplitude Kurtosis [°]',\n",
    "        'Saccade Acceleration Average [°/s²] Mean', 'Saccade Acceleration Average [°/s²] Max', 'Saccade Acceleration Average [°/s²] Min', 'Saccade Acceleration Average [°/s²] Median', 'Saccade Acceleration Average [°/s²] Std', 'Saccade Acceleration Average [°/s²] Skew]', 'Saccade Acceleration Average [°/s²] Quantil 25]', 'Saccade Acceleration Average [°/s²] Quantil 75]',\n",
    "        'Saccade Acceleration Peak [°/s²] Mean', 'Saccade Acceleration Peak [°/s²] Max', 'Saccade Acceleration Peak [°/s²] Min', 'Saccade Acceleration Peak [°/s²] Median', 'Saccade Acceleration Peak [°/s²] Std', 'Saccade Acceleration Peak [°/s²] Skew]', 'Saccade Acceleration Peak [°/s²] Quantil 25]', 'Saccade Acceleration Peak [°/s²] Quantil 75]', 'Saccade Deceleration Peak [°/s²] Mean', \n",
    "        'Saccade Deceleration Peak [°/s²] Max', 'Saccade Deceleration Peak [°/s²] Min', 'Saccade Deceleration Peak [°/s²] Median', 'Saccade Deceleration Peak [°/s²] Std', 'Saccade Deceleration Peak [°/s²] Skew]', 'Saccade Deceleration Peak [°/s²] Quantil 25]', 'Saccade Deceleration Peak [°/s²] Quantil 75]', \n",
    "        'Saccade Velocity Average [°/s²] Mean', 'Saccade Velocity Average [°/s²] Max', 'Saccade Velocity Average [°/s²] Min', 'Saccade Velocity Average [°/s²] Median', 'Saccade Velocity Average [°/s²] Std', 'Saccade Velocity Average [°/s²] Skew]', 'Saccade Velocity Average [°/s²] Quantil 25]', 'Saccade Velocity Average [°/s²] Quantil 75]', \n",
    "        'Saccade Velocity Peak [°/s²] Mean', 'Saccade Velocity Peak [°/s²] Max', 'Saccade Velocity Peak [°/s²] Min', 'Saccade Velocity Peak [°/s²] Median', 'Saccade Velocity Peak [°/s²] Std', 'Saccade Velocity Peak [°/s²] Skew]', 'Saccade Velocity Peak [°/s²] Quantil 25]', 'Saccade Velocity Peak [°/s²] Quantil 75]', \n",
    "        'Saccade Velocity Peak [%] Mean', 'Saccade Velocity Peak [%] Max', 'Saccade Velocity Peak [%] Min', 'Saccade Velocity Peak [%] Median', 'Saccade Velocity Peak [%] Std', 'Saccade Velocity Peak [%] Skew]', 'Saccade Velocity Peak [%] Quantil 25]', 'Saccade Velocity Peak [%] Quantil 75]', \n",
    "        'Saccade Acceleration Average [°/s²] Kurtosis', 'Saccade Acceleration Peak [°/s²] Kurtosis', 'Saccade Deceleration Peak [°/s²] Kurtosis', 'Saccade Velocity Average [°/s²] Kurtosis', 'Saccade Velocity Peak [°/s²] Kurtosis', 'Saccade Velocity Peak [%] Kurtosis', \n",
    "        'Saccade Length Mean [px]', 'Saccade Length Max [px]', 'Saccade Length Min [px]', 'Saccade Length Median [px]', 'Saccade Length Std [px]', 'Saccade Length Skew [px]]', 'Saccade Length Quantil 25 [px]]', 'Saccade Length Quantil 75 [px]]', 'Saccade Length Kurtosis [px]', \n",
    "        'Fixation Average Pupil Diameter [mm] Mean', 'Fixation Average Pupil Diameter [mm] Max', 'Fixation Average Pupil Diameter [mm] Min', 'Fixation Average Pupil Diameter [mm] Median', 'Fixation Average Pupil Diameter [mm] Std', 'Fixation Average Pupil Diameter [mm] Skew', 'Fixation Average Pupil Diameter [mm] Quantil25', 'Fixation Average Pupil Diameter [mm] Quantil75',\n",
    "        'Fixation Average Pupil Diameter [mm] Kurtosis', \n",
    "        'Veregence Angles Mean [rad]', 'Veregence Angles Std [rad]', \n",
    "        'Pupil Distance Mean [px]', 'Pupil Distance Std [px]'\n",
    "    ]\n",
    "\n",
    "    GROUPS = \"Participant\"\n",
    "\n",
    "    TARGET = \"Awareness_all_new\"\n",
    "\n",
    "    X = train[FEATURES]\n",
    "    y = train[TARGET]\n",
    "    groups = train[GROUPS]\n",
    "    return X, y, groups"
   ]
  },
  {
   "cell_type": "code",
   "execution_count": 76,
   "metadata": {},
   "outputs": [],
   "source": [
    "X, y, groups = get_X_y(df)"
   ]
  },
  {
   "cell_type": "code",
   "execution_count": 77,
   "metadata": {},
   "outputs": [],
   "source": [
    "##################### preprocessing with pipleline #####################\n",
    "imputer =  SimpleImputer(fill_value='missing')\n",
    "scaler = StandardScaler()\n",
    "over = SMOTE(random_state= 27) #sampling_strategy=0.1\n",
    "\n",
    "model = xgb.XGBClassifier(objective=\"objective=multi:softmax\", random_state=42)\n",
    "#model = GaussianNB()\n",
    "\n",
    "#model = RandomForestClassifier(random_state=0)\n",
    "#model = SVC(kernel=\"rbf\", C=0.025, probability=True)\n",
    "\n",
    "steps = [('imputer', imputer), ('scaler',scaler),('over', over), ('model', model)] #GaussianNB())## LinearSVC()) \n",
    "pipe = Pipeline(steps=steps)"
   ]
  },
  {
   "cell_type": "code",
   "execution_count": 78,
   "metadata": {},
   "outputs": [
    {
     "name": "stdout",
     "output_type": "stream",
     "text": [
      "[0.11627907 0.62876254 0.06349206]\n",
      "f1 with labels  score for fold 0:  {0: 0.11627906976744186, 1: 0.62876254180602, 2: 0.06349206349206349}\n",
      "[0.28235294 0.75       0.        ]\n",
      "f1 with labels  score for fold 1:  {0: 0.2823529411764706, 1: 0.75, 2: 0.0}\n",
      "[0.41322314 0.71365639 0.23809524]\n",
      "f1 with labels  score for fold 2:  {0: 0.4132231404958678, 1: 0.7136563876651981, 2: 0.2380952380952381}\n",
      "[0.3960396  0.76156584 0.        ]\n",
      "f1 with labels  score for fold 3:  {0: 0.396039603960396, 1: 0.7615658362989324, 2: 0.0}\n",
      "[0.35294118 0.6745098  0.10526316]\n",
      "f1 with labels  score for fold 4:  {0: 0.35294117647058826, 1: 0.6745098039215687, 2: 0.10526315789473685}\n",
      "label 0 \n",
      "0.3121671863741529\n",
      "label 1 \n",
      "0.7056989139383438\n",
      "label 2 \n",
      "0.08137009189640769\n"
     ]
    }
   ],
   "source": [
    "##################### prediction without baseline #####################\n",
    "import random\n",
    "sgk = StratifiedGroupKFold(n_splits=5, shuffle=True, random_state=529)\n",
    "\n",
    "fold = 0\n",
    "accurancy_scores = []\n",
    "f1_scores = []\n",
    "f1_scores ={\"0\": [], \"1\": [], \"2\": []}\n",
    "precision_scores = []\n",
    "recall_scores = []\n",
    "\n",
    "### stratifies group k fold\n",
    "for train_index, test_index in sgk.split(X, y, groups):\n",
    "    X_train, X_test = X.loc[train_index], X.loc[test_index]\n",
    "    y_train, y_test = y.loc[train_index], y.loc[test_index]\n",
    "\n",
    "    # Fit Model on Train\n",
    "    pipe.fit(X_train, y_train)\n",
    "\n",
    "    y_pred = pipe.predict(X_test)\n",
    "\n",
    "    #accurancy_score = accuracy_score(y_test, y_pred)\n",
    "\n",
    "    labels = [0, 1, 2]\n",
    "    f1 = f1_score(y_test, y_pred, average=None, labels=labels)\n",
    "    f1_scores[\"0\"].append(f1[0])\n",
    "    f1_scores[\"1\"].append(f1[1])\n",
    "    f1_scores[\"2\"].append(f1[2])\n",
    "    print(f1)\n",
    "\n",
    "    # precision = precision_score(y_test, y_pred, average=None)\n",
    "    # recall = recall_score(y_test, y_pred, average=None)\n",
    "\n",
    "    #accurancy_scores.append(accurancy_score)\n",
    "   # print(pd.DataFrame(confusion_matrix(y_test, y_pred)))\n",
    "    # f1_scores.append(f1)\n",
    "    # precision_scores.append(precision)\n",
    "    # recall_scores.append(recall)\n",
    "\n",
    "    #print(f\"Accuracy for fold {fold}: \", accurancy_score)\n",
    "    print(f\"f1 with labels  score for fold {fold}: \", {label:score for label,score in zip(labels, f1)})\n",
    "    # print(f\"recall for fold {fold}: \", recall)\n",
    "    # print(f\"precision for fold {fold}: \", precision)\n",
    "    \n",
    "    fold += 1\n",
    "\n",
    "averages = [(k, sum(v)/len(v)) for k, v in f1_scores.items()]\n",
    "for k, v in averages:\n",
    "    print(\"label\", k, f\"\\n{v}\")\n",
    "\n",
    "# mean_score = np.mean(accurancy_scores)\n",
    "# mean_f1 = np.mean(f1_scores)\n",
    "# mean_recall = np.mean(recall_scores)\n",
    "# mean_precision = np.mean(precision_scores)\n",
    "\n",
    "# #print(f'Our mean fold accurancy_scores is {mean_score:0.4f}')\n",
    "# print(f'Our mean fold f1 score is {mean_f1:0.4f}')\n",
    "# print(f'Our mean fold recall is {mean_recall:0.4f}')\n",
    "# print(f'Our mean fold precisionis {mean_precision:0.4f}')\n"
   ]
  },
  {
   "cell_type": "code",
   "execution_count": 85,
   "metadata": {},
   "outputs": [
    {
     "name": "stdout",
     "output_type": "stream",
     "text": [
      "[0.22222222 0.60135135 0.        ]\n",
      "f1 with labels  score for fold 0:  {0: 0.2222222222222222, 1: 0.6013513513513513, 2: 0.0}\n",
      "[0.21686747 0.71942446 0.        ]\n",
      "f1 with labels  score for fold 1:  {0: 0.21686746987951808, 1: 0.7194244604316546, 2: 0.0}\n",
      "[0.23157895 0.65917603 0.        ]\n",
      "f1 with labels  score for fold 2:  {0: 0.23157894736842108, 1: 0.6591760299625468, 2: 0.0}\n",
      "[0.14893617 0.7114094  0.        ]\n",
      "f1 with labels  score for fold 3:  {0: 0.14893617021276598, 1: 0.7114093959731544, 2: 0.0}\n",
      "[0.29906542 0.66911765 0.        ]\n",
      "f1 with labels  score for fold 4:  {0: 0.2990654205607476, 1: 0.6691176470588235, 2: 0.0}\n",
      "label 0 \n",
      "0.223734046048735\n",
      "label 1 \n",
      "0.672095776955506\n",
      "label 2 \n",
      "0.0\n"
     ]
    }
   ],
   "source": [
    "##################### prediction with baseline #####################\n",
    "# task-related    631\n",
    "# aware           249\n",
    "# unaware         147\n",
    "\n",
    "\n",
    "import random\n",
    "sgk = StratifiedGroupKFold(n_splits=5, shuffle=True, random_state=529)\n",
    "\n",
    "fold = 0\n",
    "accurancy_scores = []\n",
    "f1_scores = []\n",
    "f1_scores ={\"0\": [], \"1\": [], \"2\": []}\n",
    "precision_scores = []\n",
    "recall_scores = []\n",
    "\n",
    "### stratifies group k fold\n",
    "for train_index, test_index in sgk.split(X, y, groups):\n",
    "    X_train, X_test = X.loc[train_index], X.loc[test_index]\n",
    "    y_train, y_test = y.loc[train_index], y.loc[test_index]\n",
    "\n",
    "    # Fit Model on Train\n",
    "    pipe.fit(X_train, y_train)\n",
    "\n",
    "    y_pred = pipe.predict(X_test)\n",
    "\n",
    "    # create baseline\n",
    "    baseline = np.ones(len(y_pred))\n",
    "    mw__aware_size = 24.24537/100  * len(y_pred)\n",
    "    mw__unaware_size = 14.31353/100  * len(y_pred)\n",
    "\n",
    "    baseline[:int(mw__aware_size)] = 0\n",
    "    baseline[int(mw__aware_size): int(mw__unaware_size)] = 2\n",
    "    np.random.shuffle(baseline)\n",
    "    baseline = baseline.astype(int)\n",
    "\n",
    "    #accurancy_score = accuracy_score(y_test, y_pred)\n",
    "\n",
    "    labels = [0, 1, 2]\n",
    "    f1 = f1_score(y_test, baseline, average=None, labels=labels)\n",
    "    f1_scores[\"0\"].append(f1[0])\n",
    "    f1_scores[\"1\"].append(f1[1])\n",
    "    f1_scores[\"2\"].append(f1[2])\n",
    "    print(f1)\n",
    "\n",
    "    # precision = precision_score(y_test, y_pred, average=None)\n",
    "    # recall = recall_score(y_test, y_pred, average=None)\n",
    "\n",
    "    #accurancy_scores.append(accurancy_score)\n",
    "   # print(pd.DataFrame(confusion_matrix(y_test, y_pred)))\n",
    "    # f1_scores.append(f1)\n",
    "    # precision_scores.append(precision)\n",
    "    # recall_scores.append(recall)\n",
    "\n",
    "    #print(f\"Accuracy for fold {fold}: \", accurancy_score)\n",
    "    print(f\"f1 with labels  score for fold {fold}: \", {label:score for label,score in zip(labels, f1)})\n",
    "    # print(f\"recall for fold {fold}: \", recall)\n",
    "    # print(f\"precision for fold {fold}: \", precision)\n",
    "    \n",
    "    fold += 1\n",
    "\n",
    "averages = [(k, sum(v)/len(v)) for k, v in f1_scores.items()]\n",
    "for k, v in averages:\n",
    "    print(\"label\", k, f\"\\n{v}\")\n",
    "\n",
    "# mean_score = np.mean(accurancy_scores)\n",
    "# mean_f1 = np.mean(f1_scores)\n",
    "# mean_recall = np.mean(recall_scores)\n",
    "# mean_precision = np.mean(precision_scores)\n",
    "\n",
    "# #print(f'Our mean fold accurancy_scores is {mean_score:0.4f}')\n",
    "# print(f'Our mean fold f1 score is {mean_f1:0.4f}')\n",
    "# print(f'Our mean fold recall is {mean_recall:0.4f}')\n",
    "# print(f'Our mean fold precisionis {mean_precision:0.4f}')\n"
   ]
  },
  {
   "cell_type": "code",
   "execution_count": 83,
   "metadata": {},
   "outputs": [],
   "source": [
    "# create baseline \n",
    "        # 38.55891% von y_pred should be MW, MW = 0\n",
    "# # task-related    631 | 1\n",
    "# aware           249 | 0\n",
    "# unaware         147 | 2\n",
    "# 1027\n",
    "baseline = np.ones(len(y_pred))\n",
    "mw__aware_size = 24.24537/100  * len(y_pred)\n",
    "mw__unaware_size = 14.31353/100  * len(y_pred)\n",
    "\n",
    "baseline[:int(mw__aware_size)] = 0\n",
    "baseline[int(mw__aware_size): int(mw__unaware_size)] = 2\n",
    "np.random.shuffle(baseline)\n",
    "baseline = baseline.astype(int)"
   ]
  },
  {
   "cell_type": "code",
   "execution_count": null,
   "metadata": {},
   "outputs": [],
   "source": []
  }
 ],
 "metadata": {
  "kernelspec": {
   "display_name": "Python 3",
   "language": "python",
   "name": "python3"
  },
  "language_info": {
   "codemirror_mode": {
    "name": "ipython",
    "version": 3
   },
   "file_extension": ".py",
   "mimetype": "text/x-python",
   "name": "python",
   "nbconvert_exporter": "python",
   "pygments_lexer": "ipython3",
   "version": "3.10.10"
  },
  "orig_nbformat": 4,
  "vscode": {
   "interpreter": {
    "hash": "a166e61b3f1e7b9ccc9f59f78d7cc3087a9ccbb0b1a7cff444b301613a633a54"
   }
  }
 },
 "nbformat": 4,
 "nbformat_minor": 2
}
