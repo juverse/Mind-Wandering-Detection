{
 "cells": [
  {
   "cell_type": "code",
   "execution_count": 69,
   "metadata": {},
   "outputs": [],
   "source": [
    "# get Validation accuracy for all participants\n",
    "\n",
    "# dependecies\n",
    "import pandas as pd\n",
    "import numpy as np\n",
    "import os as os\n",
    "import re as re\n",
    "import seaborn as sns"
   ]
  },
  {
   "cell_type": "code",
   "execution_count": 70,
   "metadata": {},
   "outputs": [],
   "source": [
    "# Define paths\n",
    "read_path = r'W:\\WCT\\04_Mind-Wandering-Labstudy\\04_Daten\\01_Raw_Data'\n",
    "save_path = r'W:\\WCT\\04_Mind-Wandering-Labstudy\\04_Daten\\04_Prepared_data\\00_Julia'\n",
    "\n",
    "excluded_path = r'W:\\WCT\\04_Mind-Wandering-Labstudy\\04_Daten\\02_Excluded_ids.csv'"
   ]
  },
  {
   "cell_type": "code",
   "execution_count": 71,
   "metadata": {},
   "outputs": [
    {
     "name": "stdout",
     "output_type": "stream",
     "text": [
      "SMI folder not found:\n",
      "W:\\WCT\\04_Mind-Wandering-Labstudy\\04_Daten\\01_Raw_Data\\300322\\103\\SMI\n"
     ]
    }
   ],
   "source": [
    "# Walk through participant folders and get SMI id.txt\n",
    "\n",
    "#function to list dirs and ignore hidden files\n",
    "def listdir_nohidden(path):\n",
    "    l = []\n",
    "    for f in os.listdir(path):\n",
    "        if not f.startswith('.'):\n",
    "            l.append(f)\n",
    "    return l\n",
    "            \n",
    "#list of dates\n",
    "dates= listdir_nohidden(read_path)\n",
    "\n",
    "#list of ids per date plus SMI folder\n",
    "ids_path_list = []\n",
    "ids_list  = []\n",
    "for date in dates:\n",
    "    ids = listdir_nohidden(read_path + '\\\\'+ date)\n",
    "    for i in ids:\n",
    "        ids_path_list.append(read_path + '\\\\' + date + '\\\\' + i + r'\\SMI')\n",
    "        ids_list.append(i)\n",
    "\n",
    "#access id.txt and create list of validation_accuracy for all participants\n",
    "validation_accuracy_list= []\n",
    "for path,id in zip(ids_path_list, ids_list):\n",
    "    try:\n",
    "        file = listdir_nohidden(path)\n",
    "    except:\n",
    "        print(\"SMI folder not found:\")\n",
    "        print(path)\n",
    "        continue\n",
    "    \n",
    "    path = path + '\\\\' + file[0]\n",
    "    for t in os.listdir(path):\n",
    "        if t.endswith(str(id) + '.txt'): # \\\\08.xml -> „Validation accuracy“\n",
    "            path_read = path + '\\\\' + t\n",
    "            \n",
    "            f=open(path_read,\"r\")\n",
    "            lines=f.readlines()\n",
    "            for line in lines:\n",
    "                if \"Validation accuracy\" in line:\n",
    "                    validation_accuracy =  line.split(\"Validation accuracy: \",1)[1]\n",
    "                    validation_accuracy_list.append(\"id = \" + str(id) + \" \" + validation_accuracy)\n",
    "            f.close()\n",
    "            \n",
    "\n",
    "#W:\\WCT\\04_Mind-Wandering-Labstudy\\04_Daten\\01_Raw_Data\\050422\\08\\SMI\\08-[d4ac930d-b5a9-42ad-9843-d81ce7121bcd]\\08.txt\n",
    "#Hier unter dem Stichwort „Validation accuracy“\n",
    "            \n",
    "# column 4, row Validation accuracy: LeftDevX = 1,1076 LeftDevY = 1,0748 RightDevX = 0,7915 RightDevY = 1,1128"
   ]
  },
  {
   "cell_type": "code",
   "execution_count": 72,
   "metadata": {},
   "outputs": [
    {
     "data": {
      "text/html": [
       "<div>\n",
       "<style scoped>\n",
       "    .dataframe tbody tr th:only-of-type {\n",
       "        vertical-align: middle;\n",
       "    }\n",
       "\n",
       "    .dataframe tbody tr th {\n",
       "        vertical-align: top;\n",
       "    }\n",
       "\n",
       "    .dataframe thead th {\n",
       "        text-align: right;\n",
       "    }\n",
       "</style>\n",
       "<table border=\"1\" class=\"dataframe\">\n",
       "  <thead>\n",
       "    <tr style=\"text-align: right;\">\n",
       "      <th></th>\n",
       "      <th>id</th>\n",
       "      <th>LeftDevX</th>\n",
       "      <th>LeftDevY</th>\n",
       "      <th>RightDevX</th>\n",
       "      <th>RightDevY</th>\n",
       "    </tr>\n",
       "  </thead>\n",
       "  <tbody>\n",
       "    <tr>\n",
       "      <th>count</th>\n",
       "      <td>99.000000</td>\n",
       "      <td>99.000000</td>\n",
       "      <td>99.000000</td>\n",
       "      <td>99.000000</td>\n",
       "      <td>99.000000</td>\n",
       "    </tr>\n",
       "    <tr>\n",
       "      <th>mean</th>\n",
       "      <td>60.444444</td>\n",
       "      <td>0.610095</td>\n",
       "      <td>0.652629</td>\n",
       "      <td>0.638963</td>\n",
       "      <td>0.672532</td>\n",
       "    </tr>\n",
       "    <tr>\n",
       "      <th>std</th>\n",
       "      <td>99.578112</td>\n",
       "      <td>0.857403</td>\n",
       "      <td>0.655810</td>\n",
       "      <td>0.819174</td>\n",
       "      <td>0.726913</td>\n",
       "    </tr>\n",
       "    <tr>\n",
       "      <th>min</th>\n",
       "      <td>1.000000</td>\n",
       "      <td>0.062100</td>\n",
       "      <td>0.078900</td>\n",
       "      <td>0.060700</td>\n",
       "      <td>0.087600</td>\n",
       "    </tr>\n",
       "    <tr>\n",
       "      <th>25%</th>\n",
       "      <td>26.500000</td>\n",
       "      <td>0.227300</td>\n",
       "      <td>0.324850</td>\n",
       "      <td>0.235050</td>\n",
       "      <td>0.276150</td>\n",
       "    </tr>\n",
       "    <tr>\n",
       "      <th>50%</th>\n",
       "      <td>51.000000</td>\n",
       "      <td>0.351700</td>\n",
       "      <td>0.427200</td>\n",
       "      <td>0.364300</td>\n",
       "      <td>0.471000</td>\n",
       "    </tr>\n",
       "    <tr>\n",
       "      <th>75%</th>\n",
       "      <td>75.500000</td>\n",
       "      <td>0.575300</td>\n",
       "      <td>0.713600</td>\n",
       "      <td>0.551400</td>\n",
       "      <td>0.689800</td>\n",
       "    </tr>\n",
       "    <tr>\n",
       "      <th>max</th>\n",
       "      <td>999.000000</td>\n",
       "      <td>5.432400</td>\n",
       "      <td>3.960800</td>\n",
       "      <td>4.994700</td>\n",
       "      <td>4.435800</td>\n",
       "    </tr>\n",
       "  </tbody>\n",
       "</table>\n",
       "</div>"
      ],
      "text/plain": [
       "               id   LeftDevX   LeftDevY  RightDevX  RightDevY\n",
       "count   99.000000  99.000000  99.000000  99.000000  99.000000\n",
       "mean    60.444444   0.610095   0.652629   0.638963   0.672532\n",
       "std     99.578112   0.857403   0.655810   0.819174   0.726913\n",
       "min      1.000000   0.062100   0.078900   0.060700   0.087600\n",
       "25%     26.500000   0.227300   0.324850   0.235050   0.276150\n",
       "50%     51.000000   0.351700   0.427200   0.364300   0.471000\n",
       "75%     75.500000   0.575300   0.713600   0.551400   0.689800\n",
       "max    999.000000   5.432400   3.960800   4.994700   4.435800"
      ]
     },
     "execution_count": 72,
     "metadata": {},
     "output_type": "execute_result"
    }
   ],
   "source": [
    "# create dataframe for validation accuracy\n",
    "id = []\n",
    "LeftDevX = []\n",
    "LeftDevY = []\n",
    "RightDevX = []\n",
    "RightDevY = []\n",
    "for i in range(len(validation_accuracy_list)):\n",
    "    validation_accuracy_one_id = validation_accuracy_list[i].replace(\",\", \".\").split(\" \")\n",
    "    id.append(int(validation_accuracy_one_id[2]))\n",
    "    LeftDevX.append(float(validation_accuracy_one_id[5]))\n",
    "    LeftDevY.append(float(validation_accuracy_one_id[8]))\n",
    "    RightDevX.append(float(validation_accuracy_one_id[11]))\n",
    "    RightDevY.append(float(validation_accuracy_one_id[-1]))\n",
    "\n",
    "data = {\"id\": id, \"LeftDevX\": LeftDevX, \"LeftDevY\": LeftDevY, \"RightDevX\": RightDevX, \"RightDevY\": RightDevY  }\n",
    "df_validation_accuracy = pd.DataFrame(data)\n",
    "df_validation_accuracy.describe()"
   ]
  },
  {
   "cell_type": "code",
   "execution_count": 74,
   "metadata": {},
   "outputs": [],
   "source": [
    "# Remove excluded IDs\n",
    "\n",
    "excl = list(pd.read_csv(excluded_path, header = 0))\n",
    "excl = [int(x) for x in excl]\n",
    "\n",
    "df_validation_accuracy = df_validation_accuracy[~df_validation_accuracy['id'].isin(excl)]\n"
   ]
  },
  {
   "cell_type": "code",
   "execution_count": 76,
   "metadata": {},
   "outputs": [],
   "source": [
    "df_validation_accuracy.to_csv(save_path + '\\\\Validation_accuracy.csv', index = False, sep = \";\")"
   ]
  },
  {
   "cell_type": "code",
   "execution_count": null,
   "metadata": {},
   "outputs": [],
   "source": []
  }
 ],
 "metadata": {
  "kernelspec": {
   "display_name": "Python 3",
   "language": "python",
   "name": "python3"
  },
  "language_info": {
   "codemirror_mode": {
    "name": "ipython",
    "version": 3
   },
   "file_extension": ".py",
   "mimetype": "text/x-python",
   "name": "python",
   "nbconvert_exporter": "python",
   "pygments_lexer": "ipython3",
   "version": "3.10.9"
  },
  "orig_nbformat": 4,
  "vscode": {
   "interpreter": {
    "hash": "a166e61b3f1e7b9ccc9f59f78d7cc3087a9ccbb0b1a7cff444b301613a633a54"
   }
  }
 },
 "nbformat": 4,
 "nbformat_minor": 2
}
