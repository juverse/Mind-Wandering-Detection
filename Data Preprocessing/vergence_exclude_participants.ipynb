{
 "cells": [
  {
   "cell_type": "code",
   "execution_count": 4,
   "metadata": {},
   "outputs": [
    {
     "data": {
      "text/plain": [
       "array(['1', '3', 'P04', '5', '6', '7', '9', '10', '11', '12', '13', '14',\n",
       "       '15', '16', '17', '18', '19', '20', '21', '22', '23', '24', '25',\n",
       "       '26', '27', '28', '29', '30', '31', '32', '33', '34', '35', '36',\n",
       "       '37', '38', '39', '40', '41', '42', '43', '44', '45', '46', '47',\n",
       "       '48', '49', '51', '53', '55', '57', '58', '59', '60', '61', '62',\n",
       "       '63', '64', '65', '66', '67', '68', '69', '70', '71', '72', '73',\n",
       "       '74', '75', '76', '77', '78', '79', '80', '81', '822', '83', '84',\n",
       "       '85', '86', '87', '88', '89_2', '90', '91', '92', '93', '94', '95',\n",
       "       '97'], dtype=object)"
      ]
     },
     "execution_count": 4,
     "metadata": {},
     "output_type": "execute_result"
    }
   ],
   "source": [
    "import pandas as pd\n",
    "vergence = pd.read_csv(\n",
    "        r\"W:\\WCT\\04_Mind-Wandering-Labstudy\\04_Daten\\04_Prepared_data\\00_Julia\\vergence_without_excluded_participants.csv\"\n",
    "    )\n",
    "vergence[\"Participant\"].unique()"
   ]
  },
  {
   "cell_type": "code",
   "execution_count": 10,
   "metadata": {},
   "outputs": [
    {
     "data": {
      "text/plain": [
       "array(['1', '3', 'P04', '5', '6', '7', '9', '10', '11', '12', '13', '14',\n",
       "       '15', '16', '17', '18', '19', '20', '21', '22', '23', '24', '25',\n",
       "       '26', '27', '28', '29', '30', '31', '32', '33', '34', '35', '36',\n",
       "       '37', '38', '39', '40', '41', '42', '43', '44', '45', '46', '47',\n",
       "       '48', '49', '51', '53', '55', '57', '58', '59', '60', '61', '62',\n",
       "       '63', '64', '65', '66', '67', '68', '69', '70', '71', '72', '73',\n",
       "       '74', '75', '76', '77', '78', '79', '80', '81', '822', '83', '84',\n",
       "       '85', '86', '87', '88', '89_2', '90', '91', '92', '93', '94', '95',\n",
       "       '97'], dtype=object)"
      ]
     },
     "execution_count": 10,
     "metadata": {},
     "output_type": "execute_result"
    }
   ],
   "source": [
    "a = vergence.loc[~vergence[\"Participant\"].isin([11, 12, 13, 24, 25, 27, 30, 31, 38, 41, 43, 47, 50, 52, 54, 59, 63, 69, 70, 75, 82, 84, 89, 91, 101, 102, 103, 104, 105, 999])]\n",
    "a[\"Participant\"].unique()\n",
    "#~df_quest['SubjectName'].isin(excl)"
   ]
  },
  {
   "cell_type": "code",
   "execution_count": 8,
   "metadata": {},
   "outputs": [],
   "source": [
    "excluded_participants = [\"11\", \"12\", \"13\", \"24\", \"25\", \"27\", \"30\", \"31\", \"38\", \"41\", \"43\", \"47\", \"50\", \"52\", \"54\", \"59\", \"63\", \"70\", \"75\", \"82\", \"84\", \"89\", \"91\", \"101\", \"102\", \"103\", \"104\", \"105\", \"999\"]\n",
    "b = ~vergence[\"Participant\"].isin(excluded_participants)\n",
    "vergence_without_excluded_participants = vergence.loc[~vergence[\"Participant\"].isin(excluded_participants)]\n",
    "vergence_without_excluded_participants\n",
    "len(vergence_without_excluded_participants[\"Participant\"].unique())\n",
    "vergence_without_excluded_participants.to_csv( r\"W:\\WCT\\04_Mind-Wandering-Labstudy\\04_Daten\\04_Prepared_data\\00_Julia\\vergence_final.csv\", index = False)"
   ]
  },
  {
   "cell_type": "code",
   "execution_count": null,
   "metadata": {},
   "outputs": [],
   "source": []
  }
 ],
 "metadata": {
  "kernelspec": {
   "display_name": "Python 3",
   "language": "python",
   "name": "python3"
  },
  "language_info": {
   "codemirror_mode": {
    "name": "ipython",
    "version": 3
   },
   "file_extension": ".py",
   "mimetype": "text/x-python",
   "name": "python",
   "nbconvert_exporter": "python",
   "pygments_lexer": "ipython3",
   "version": "3.10.9 (tags/v3.10.9:1dd9be6, Dec  6 2022, 20:01:21) [MSC v.1934 64 bit (AMD64)]"
  },
  "orig_nbformat": 4,
  "vscode": {
   "interpreter": {
    "hash": "a166e61b3f1e7b9ccc9f59f78d7cc3087a9ccbb0b1a7cff444b301613a633a54"
   }
  }
 },
 "nbformat": 4,
 "nbformat_minor": 2
}
